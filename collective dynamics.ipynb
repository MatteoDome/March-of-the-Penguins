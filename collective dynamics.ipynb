{
 "cells": [
  {
   "cell_type": "code",
   "execution_count": 34,
   "metadata": {
    "collapsed": true
   },
   "outputs": [],
   "source": [
    "import numpy as np\n",
    "import matplotlib.pyplot as plt\n",
    "%matplotlib inline\n",
    "import numba"
   ]
  },
  {
   "cell_type": "code",
   "execution_count": 41,
   "metadata": {
    "collapsed": false
   },
   "outputs": [],
   "source": [
    "L = 250\n",
    "N = 100\n",
    "x = np.arange(-int(L/2), int(L/2), 1)\n",
    "y = np.arange(-int(L/2), int(L/2), 1)\n",
    "sp = np.meshgrid(x, y)\n",
    "v = 0.03\n",
    "\n",
    "\n",
    "##x represents coordinates, v has the components of the velocity (probably superfluous, psi is the orientation, omega is the \n",
    "##angular velocity and r is the radius.\n",
    "particles_x = np.zeros([N, 2])\n",
    "particles_v = np.zeros([N, 2])\n",
    "particles_psi = np.zeros(N)\n",
    "particles_omega = np.zeros(N)\n",
    "particles_r = np.zeros(N)"
   ]
  },
  {
   "cell_type": "code",
   "execution_count": 44,
   "metadata": {
    "collapsed": false
   },
   "outputs": [],
   "source": [
    "for i in range (int(np.sqrt(N))):\n",
    "    particles_x[10*i:10*(i+1), 0] = np.arange(0, 10)\n",
    "    particles_x[10*i:10*(i+1), 1] = i\n",
    "    \n",
    "particles_r[:] = np.random.normal(1, 0.1, N)\n",
    "particles_psi = particles_psi - d_theta\n",
    "particles_v[:, 0] = v*np.cos(particles_psi)\n",
    "particles_v[:, 0] = v*np.sin(particles_psi)"
   ]
  },
  {
   "cell_type": "code",
   "execution_count": 70,
   "metadata": {
    "collapsed": true
   },
   "outputs": [],
   "source": [
    "def update(N, particles_r, particles_psi):\n",
    "    F_x = np.zeros(N)\n",
    "    F_y = np.zeros(N)\n",
    "    theta_out = np.zeros(N)\n",
    "    d_theta = np.zeros(N)\n",
    "    theta_noise = np.random.random(N)\n",
    "    dx = np.zeros(N)\n",
    "    dy = np.zeros(N)\n",
    "    v = 0.3\n",
    "    particles_omega = v/particles_r\n",
    "    \n",
    "    ##distances and angles calculations\n",
    "    d = np.linalg.norm(particles_x[None, :, :] - particles_x[:, None, :], axis = 2)\n",
    "    d[d > 2.7] = 0\n",
    "    select_matrix = np.copy(d)\n",
    "    select_matrix[select_matrix > 0] = 1\n",
    "    angles = particles_x[None, :, :] - particles_x[:, None, :]\n",
    "    angles.diag[i, i, :] = 100\n",
    "    \n",
    "    ##normally, atan return a value between -pi/2 and pi/2. atan2 returns a value between pi and -pi.\n",
    "    angles = select_matrix*np.atan2(particles_x[:, :, 1]/particles_x[:, :, 0])\n",
    "    \n",
    "    ##distances along different axes\n",
    "    dx = d*np.cos(angles[:])\n",
    "    dy = d*np.sin(angles[:])\n",
    "    \n",
    "    ##NEEDS CHECKING. Pretty sure it's wrong.\n",
    "    if (max(abs(angles[i, :])) - min(abs(angles[i, :])) - np.pi < 0):\n",
    "        d_theta = max(angles[i, :]) - min(angles[i, :])\n",
    "        theta_out[:] = 2*np.pi - d_theta\n",
    "    \n",
    "    ##force calculations\n",
    "    F_x[:] = (v + (d_theta[:] - np.pi)*d_theta[:]*np.piecewise(d_theta[:] -np.pi > 0))*np.cos(particles_psi[:]) - k*np.sum(dx, axis = 1)[:]\n",
    "    F_y[:] = (v + (d_theta[:] - np.pi)*d_theta[:]*np.piecewise(d_theta[:] -np.pi > 0))*np.sin(particles_psi[:]) - k * np.sum(dy, axis = 1)[:]\n",
    "    \n",
    "    T = particles:omega[:]*theta_noise*np.piecewise(d_theta[:] -np.pi > 0)+"
   ]
  },
  {
   "cell_type": "code",
   "execution_count": null,
   "metadata": {
    "collapsed": true
   },
   "outputs": [],
   "source": []
  }
 ],
 "metadata": {
  "kernelspec": {
   "display_name": "Python 3",
   "language": "python",
   "name": "python3"
  },
  "language_info": {
   "codemirror_mode": {
    "name": "ipython",
    "version": 3
   },
   "file_extension": ".py",
   "mimetype": "text/x-python",
   "name": "python",
   "nbconvert_exporter": "python",
   "pygments_lexer": "ipython3",
   "version": "3.5.1"
  }
 },
 "nbformat": 4,
 "nbformat_minor": 0
}
