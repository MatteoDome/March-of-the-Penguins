{
 "cells": [
  {
   "cell_type": "code",
   "execution_count": 137,
   "metadata": {
    "collapsed": true
   },
   "outputs": [],
   "source": [
    "import numpy as np\n",
    "import matplotlib.pyplot as plt\n",
    "%matplotlib inline\n",
    "import numba\n",
    "from mpl_toolkits.mplot3d import Axes3D"
   ]
  },
  {
   "cell_type": "code",
   "execution_count": 138,
   "metadata": {
    "collapsed": false
   },
   "outputs": [],
   "source": [
    "L = 250\n",
    "N = 100\n",
    "x = np.arange(-int(L/2), int(L/2), 1)\n",
    "y = np.arange(-int(L/2), int(L/2), 1)\n",
    "spx, spy = np.meshgrid(x, y)\n",
    "delta_theta = np.zeros(N)\n",
    "v = 0.3\n",
    "\n",
    "##x represents coordinates, v has the components of the velocity (probably superfluous, psi is the orientation, omega is the \n",
    "##angular velocity and r is the radius.\n",
    "particles_x = np.zeros([N, 2])\n",
    "particles_v = np.zeros([N, 2])\n",
    "particles_psi = np.zeros(N)\n",
    "particles_omega = np.zeros(N)\n",
    "particles_r = np.zeros(N)"
   ]
  },
  {
   "cell_type": "code",
   "execution_count": 139,
   "metadata": {
    "collapsed": false
   },
   "outputs": [],
   "source": [
    "for i in range (int(np.sqrt(N))):\n",
    "    particles_x[10*i:10*(i+1), 0] = np.arange(0, 10)\n",
    "    particles_x[10*i:10*(i+1), 1] = i\n",
    "    \n",
    "particles_r[:] = np.random.normal(1, 0.1, N)\n",
    "particles_psi = particles_psi - delta_theta\n",
    "particles_v[:, 0] = v*np.cos(particles_psi)\n",
    "particles_v[:, 0] = v*np.sin(particles_psi)"
   ]
  },
  {
   "cell_type": "code",
   "execution_count": 148,
   "metadata": {
    "collapsed": false
   },
   "outputs": [],
   "source": [
    "def update(N, particles_x, particles_r, particles_psi):\n",
    "    F_x = np.zeros(N)\n",
    "    F_y = np.zeros(N)\n",
    "    \n",
    "    dx = np.zeros(N)\n",
    "    dy = np.zeros(N)\n",
    "    \n",
    "    v = 0.3\n",
    "    \n",
    "    theta_out = np.zeros(N)\n",
    "    theta_in = np.zeros(N)\n",
    "    d_theta = np.zeros(N)\n",
    "    \n",
    "    particles_omega = (v)/particles_r\n",
    "    \n",
    "    psi_diff = np.zeros([N, N])\n",
    "    psi_diff = particles_psi[None, :] - particles_psi[:, None]\n",
    "    \n",
    "    ##distances and angles calculations\n",
    "    d = np.linalg.norm(particles_x[None, :, :] - particles_x[:, None, :], axis = 2)\n",
    "    \n",
    "    select_matrix = np.copy(d)\n",
    "    select_matrix[select_matrix > 2.7] = 0\n",
    "    select_matrix[select_matrix > 0] = 1 ##the selection matrix is used to only take into account the neighbours with d < 2.7\n",
    "    \n",
    "    particles_dist = particles_x[None, :, :] - particles_x[:, None, :]\n",
    "    \n",
    "    for i in range (N):\n",
    "        particles_dist[i, i, :] = 100\n",
    "    \n",
    "    print (particles_dist)\n",
    "    ##normally, atan return a value between -pi/2 and pi/2. atan2 returns a value between pi and -pi.\n",
    "    \n",
    "    angles = select_matrix*np.arctan2(particles_dist[:, :, 1], particles_dist[:, :, 0])\n",
    "    \n",
    "    psi_diff = psi_diff * select_matrix\n",
    "    \n",
    "    ##OPTIMIZATION NEEDED\n",
    "    for i in range (0, N):\n",
    "        for j in range (0, N):\n",
    "            d[i, j] -= particles_r[i] + particles_r[j]\n",
    "    d[d<0] = 0\n",
    "    \n",
    "    ##distances along different axes\n",
    "    dx = d*np.cos(angles[:])\n",
    "    dy = d*np.sin(angles[:])\n",
    "    \n",
    "    ##NEEDS OPTIMIZATION\n",
    "    for i in range (N):\n",
    "        M = max(angles[i, :])\n",
    "        m = min(angles[i, :])\n",
    "        if M > 0 and m < 0:\n",
    "            if M - m < np.pi:\n",
    "                theta_in[i] = (M-m)/2\n",
    "                theta_out[:] = 2*np.pi - 2*theta_in\n",
    "                d_theta = particles_psi - theta_in\n",
    "        elif (M > 0 and m > 0) or (M < 0 and m < 0):\n",
    "            theta_in[i] = (M-m)/2\n",
    "            theta_out[:] = 2*np.pi - 2*theta_in\n",
    "            d_theta = particles_psi - theta_in\n",
    "    \n",
    "    ##force calculations\n",
    "    F_x[:] = v*np.cos(particles_psi[:]) + (theta_out[:] - np.pi)*theta_out[:]*np.piecewise(theta_out[:] -np.pi, [theta_out[:] -np.pi > 0], [0, 1])*np.cos(particles_psi[:]) - 1*np.sum(dx, axis = 1)[:]\n",
    "    F_y[:] = v*np.sin(particles_psi[:]) + (theta_out[:] - np.pi)*theta_out[:]*np.piecewise(theta_out[:] -np.pi, [theta_out[:] -np.pi > 0], [0, 1])*np.sin(particles_psi[:]) - 1*np.sum(dy, axis = 1)[:]\n",
    "    \n",
    "    T = particles_omega[:]*np.piecewise(theta_out[:] -np.pi, [theta_out[:] -np.pi > 0], [0, 1]) + 1*np.random.uniform(-1,1, N) + 1*np.sum(psi_diff, axis = 1)[:]\n",
    "    \n",
    "    particles_x[:, 0] = np.mod(particles_x[:, 0] + F_x[:], L)\n",
    "    particles_x[:, 1] = np.mod(particles_x[:, 1] + F_y[:], L)\n",
    "    particles_omega[:] = - (particles_psi[:] - T*1)\n",
    "    particles_psi[:] = particles_psi[:] + particles_omega[:]\n",
    "    \n",
    "    return particles_x, particles_psi"
   ]
  },
  {
   "cell_type": "code",
   "execution_count": 151,
   "metadata": {
    "collapsed": false
   },
   "outputs": [
    {
     "data": {
      "image/png": "[encoded data removed]",
      "text/plain": [
       "<matplotlib.figure.Figure at 0x1784cc1f2e8>"
      ]
     },
     "metadata": {},
     "output_type": "display_data"
    }
   ],
   "source": [
    "plt.scatter(particles_x[:, 0], particles_x[:, 1])\n",
    "plt.show()"
   ]
  },
  {
   "cell_type": "code",
   "execution_count": 150,
   "metadata": {
    "collapsed": false
   },
   "outputs": [
    {
     "name": "stdout",
     "output_type": "stream",
     "text": [
      "[[[  1.00000000e+02   1.00000000e+02]\n",
      "  [ -4.49564259e+05   1.83981609e-01]\n",
      "  [ -6.42116474e+05   5.09937370e-01]\n",
      "  ..., \n",
      "  [ -6.84363498e+05   8.85179009e+00]\n",
      "  [ -3.55727426e+05   7.32652732e+00]\n",
      "  [  2.25669560e+05   7.88553488e+00]]\n",
      "\n",
      " [[  4.49564259e+05  -1.83981609e-01]\n",
      "  [  1.00000000e+02   1.00000000e+02]\n",
      "  [ -1.92552215e+05   3.25955762e-01]\n",
      "  ..., \n",
      "  [ -2.34799239e+05   8.66780849e+00]\n",
      "  [  9.38368327e+04   7.14254571e+00]\n",
      "  [  6.75233818e+05   7.70155328e+00]]\n",
      "\n",
      " [[  6.42116474e+05  -5.09937370e-01]\n",
      "  [  1.92552215e+05  -3.25955762e-01]\n",
      "  [  1.00000000e+02   1.00000000e+02]\n",
      "  ..., \n",
      "  [ -4.22470239e+04   8.34185272e+00]\n",
      "  [  2.86389048e+05   6.81658995e+00]\n",
      "  [  8.67786034e+05   7.37559751e+00]]\n",
      "\n",
      " ..., \n",
      " [[  6.84363498e+05  -8.85179009e+00]\n",
      "  [  2.34799239e+05  -8.66780849e+00]\n",
      "  [  4.22470239e+04  -8.34185272e+00]\n",
      "  ..., \n",
      "  [  1.00000000e+02   1.00000000e+02]\n",
      "  [  3.28636072e+05  -1.52526277e+00]\n",
      "  [  9.10033058e+05  -9.66255211e-01]]\n",
      "\n",
      " [[  3.55727426e+05  -7.32652732e+00]\n",
      "  [ -9.38368327e+04  -7.14254571e+00]\n",
      "  [ -2.86389048e+05  -6.81658995e+00]\n",
      "  ..., \n",
      "  [ -3.28636072e+05   1.52526277e+00]\n",
      "  [  1.00000000e+02   1.00000000e+02]\n",
      "  [  5.81396986e+05   5.59007563e-01]]\n",
      "\n",
      " [[ -2.25669560e+05  -7.88553488e+00]\n",
      "  [ -6.75233818e+05  -7.70155328e+00]\n",
      "  [ -8.67786034e+05  -7.37559751e+00]\n",
      "  ..., \n",
      "  [ -9.10033058e+05   9.66255211e-01]\n",
      "  [ -5.81396986e+05  -5.59007563e-01]\n",
      "  [  1.00000000e+02   1.00000000e+02]]]\n"
     ]
    }
   ],
   "source": [
    "particles_x, particles_psi = update(N, particles_x, particles_r, particles_psi)"
   ]
  },
  {
   "cell_type": "code",
   "execution_count": null,
   "metadata": {
    "collapsed": true
   },
   "outputs": [],
   "source": []
  },
  {
   "cell_type": "code",
   "execution_count": null,
   "metadata": {
    "collapsed": true
   },
   "outputs": [],
   "source": []
  }
 ],
 "metadata": {
  "kernelspec": {
   "display_name": "Python 3",
   "language": "python",
   "name": "python3"
  },
  "language_info": {
   "codemirror_mode": {
    "name": "ipython",
    "version": 3
   },
   "file_extension": ".py",
   "mimetype": "text/x-python",
   "name": "python",
   "nbconvert_exporter": "python",
   "pygments_lexer": "ipython3",
   "version": "3.5.1"
  }
 },
 "nbformat": 4,
 "nbformat_minor": 0
}
