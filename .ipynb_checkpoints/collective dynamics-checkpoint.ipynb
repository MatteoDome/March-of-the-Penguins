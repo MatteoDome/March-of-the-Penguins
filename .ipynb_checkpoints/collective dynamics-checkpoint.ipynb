{
 "cells": [
  {
   "cell_type": "code",
   "execution_count": 1,
   "metadata": {
    "collapsed": true
   },
   "outputs": [],
   "source": [
    "import numpy as np\n",
    "import matplotlib.pyplot as plt\n",
    "%matplotlib inline\n",
    "import numba"
   ]
  },
  {
   "cell_type": "code",
   "execution_count": 4,
   "metadata": {
    "collapsed": false
   },
   "outputs": [],
   "source": [
    "L = 250\n",
    "N = 100\n",
    "x = np.arange(-int(L/2), int(L/2), 1)\n",
    "y = np.arange(-int(L/2), int(L/2), 1)\n",
    "sp = np.meshgrid(x, y)\n",
    "delta_theta = np.zeros(N)\n",
    "v = 0.3\n",
    "\n",
    "##x represents coordinates, v has the components of the velocity (probably superfluous, psi is the orientation, omega is the \n",
    "##angular velocity and r is the radius.\n",
    "particles_x = np.zeros([N, 2])\n",
    "particles_v = np.zeros([N, 2])\n",
    "particles_psi = np.zeros(N)\n",
    "particles_omega = np.zeros(N)\n",
    "particles_r = np.zeros(N)"
   ]
  },
  {
   "cell_type": "code",
   "execution_count": 6,
   "metadata": {
    "collapsed": false
   },
   "outputs": [],
   "source": [
    "for i in range (int(np.sqrt(N))):\n",
    "    particles_x[10*i:10*(i+1), 0] = np.arange(0, 10)\n",
    "    particles_x[10*i:10*(i+1), 1] = i\n",
    "    \n",
    "particles_r[:] = np.random.normal(1, 0.1, N)\n",
    "particles_psi = particles_psi - delta_theta\n",
    "particles_v[:, 0] = v*np.cos(particles_psi)\n",
    "particles_v[:, 0] = v*np.sin(particles_psi)"
   ]
  },
  {
   "cell_type": "code",
   "execution_count": 8,
   "metadata": {
    "collapsed": true
   },
   "outputs": [],
   "source": [
    "def update(N, particles_x, particles_r, particles_psi):\n",
    "    F_x = np.zeros(N)\n",
    "    F_y = np.zeros(N)\n",
    "    \n",
    "    dx = np.zeros(N)\n",
    "    dy = np.zeros(N)\n",
    "    \n",
    "    v = 0.3\n",
    "    \n",
    "    theta_out = np.zeros(N)\n",
    "    theta_in = np.zeros(N)\n",
    "    d_theta = np.zeros(N)\n",
    "    \n",
    "    particles_omega = (v+v0)/particles_r\n",
    "    \n",
    "    psi_diff = np.zeros([N, N])\n",
    "    psi_diff = particles_psi[None, :] - particle_psi[:, None]\n",
    "    \n",
    "    ##distances and angles calculations\n",
    "    d = np.linalg.norm(particles_x[None, :, :] - particles_x[:, None, :], axis = 2)\n",
    "    \n",
    "    ##OPTIMIZATION NEEDED\n",
    "    for i in range (0, N):\n",
    "        for j in range (0, N):\n",
    "            d[i, j] -= particles_r[i] + particles_r[j]\n",
    "    d[d > 0] = 0\n",
    "    \n",
    "    select_matrix = np.copy(d)\n",
    "    select_matrix[select_matrix > 0] = 1 ##the selection matrix is used to only take into account the neighbours with d < 2.7\n",
    "    \n",
    "    angles = particles_x[None, :, :] - particles_x[:, None, :]\n",
    "    angles.diag[i, i, :] = 100\n",
    "    \n",
    "    ##normally, atan return a value between -pi/2 and pi/2. atan2 returns a value between pi and -pi.\n",
    "    angles = select_matrix*np.atan2(particles_x[:, :, 1]/particles_x[:, :, 0])\n",
    "    psi_diff = psi_diff * select_matrix\n",
    "    \n",
    "    ##distances along different axes\n",
    "    dx = d*np.cos(angles[:])\n",
    "    dy = d*np.sin(angles[:])\n",
    "    \n",
    "    ##NEEDS OPTIMIZATION\n",
    "    for i in range N:\n",
    "        M = max(angles[i, :])\n",
    "        m = min(angles[i, :])\n",
    "        if M > 0 and m < 0:\n",
    "            if M - m < np.pi:\n",
    "                theta_in[i] = (M-m)/2\n",
    "                theta_out[:] = 2*np.pi - 2*theta_in\n",
    "                d_theta = particle_psi - theta_in\n",
    "        else \n",
    "            theta_in[i] = (M-m)/2\n",
    "            theta_out[:] = 2*np.pi - 2*theta_in\n",
    "            d_theta = particle_psi - theta_in\n",
    "    \n",
    "    ##force calculations\n",
    "    F_x[:] = v*np.cos(particles_psi[:]) + (theta_out[:] - np.pi)*theta_out[:]*np.piecewise(theta_out[:] -np.pi > 0))*np.cos(particles_psi[:]) + k*np.sum(dx, axis = 1)[:]\n",
    "    F_y[:] = v*np.sin(particles_psi[:]) + (theta_out[:] - np.pi)*theta_out[:]*np.piecewise(theta_out[:] -np.pi > 0))*np.sin(particles_psi[:]) + k*np.sum(dy, axis = 1)[:]\n",
    "    \n",
    "    T = particles_omega[:]*np.piecewise(theta_out[:] -np.pi > 0) + 1*np.random.uniform(-1,1, N) + 1*np.sum(psi_diff, axis = 1)[:]\n",
    "    \n",
    "    particles_x[:, :, 0] = particles[:, :, 0] + F_x[:]\n",
    "    particles_x[:, :, 1] = particles[:, :, 1] + F_y[:]\n",
    "    particles_omega[:, :] = - (particles_psi[:, :] - T*1)\n",
    "    particles_psi[:, :] = particles_psi[:,:] + particles_omega[:, :]\n",
    "    \n",
    "    return particles_x, particles_psi"
   ]
  },
  {
   "cell_type": "code",
   "execution_count": null,
   "metadata": {
    "collapsed": true
   },
   "outputs": [],
   "source": []
  }
 ],
 "metadata": {
  "kernelspec": {
   "display_name": "Python 3",
   "language": "python",
   "name": "python3"
  },
  "language_info": {
   "codemirror_mode": {
    "name": "ipython",
    "version": 3
   },
   "file_extension": ".py",
   "mimetype": "text/x-python",
   "name": "python",
   "nbconvert_exporter": "python",
   "pygments_lexer": "ipython3",
   "version": "3.5.1"
  }
 },
 "nbformat": 4,
 "nbformat_minor": 0
}
