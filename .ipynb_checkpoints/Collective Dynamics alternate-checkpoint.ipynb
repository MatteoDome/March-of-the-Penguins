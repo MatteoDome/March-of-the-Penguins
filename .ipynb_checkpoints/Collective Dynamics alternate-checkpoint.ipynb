{
 "cells": [
  {
   "cell_type": "code",
   "execution_count": null,
   "metadata": {
    "collapsed": true
   },
   "outputs": [],
   "source": [
    "import numpy as np\n",
    "import matplotlib.pyplot as plt\n",
    "import numba\n",
    "import matplotlib.animation as animation"
   ]
  },
  {
   "cell_type": "code",
   "execution_count": null,
   "metadata": {
    "collapsed": false
   },
   "outputs": [],
   "source": [
    "#    PROPER CONFIGURATION\n",
    "L = 20\n",
    "N = 200\n",
    "delta_theta = np.zeros(N)\n",
    "\n",
    "x = np.zeros([N, 2])\n",
    "v = np.zeros([N, 2])\n",
    "psi = np.random.uniform(-np.pi/4, np.pi/4, N)\n",
    "\n",
    "for i in range (int(N/10)):\n",
    "    x[10*i:(10*(i+1)), 0] = np.arange(int(L/2 -5), int(L/2 + 5), 1) + np.random.uniform(-0.1, 0.1, 10)\n",
    "    x[10*i:(10*(i+1)), 1] = int(L/10) + i +np.random.uniform(-0.1, 0.1, int(10))\n",
    "    x#[int(N*i/10): int(N*(i+1)/10), 1] = int(L/2 + i) + np.random.uniform(-0.1, 0.1, int(N/10))\n",
    "\n",
    "radii = np.random.normal(1, 0.1, N)"
   ]
  },
  {
   "cell_type": "code",
   "execution_count": null,
   "metadata": {
    "collapsed": false
   },
   "outputs": [],
   "source": [
    "# #    TESTING CONFIGURATION\n",
    "# L = 50\n",
    "# N = 20\n",
    "# delta_theta = np.zeros(N)\n",
    "\n",
    "# x = np.zeros([N, 2])\n",
    "# v = np.zeros([N, 2])\n",
    "\n",
    "# psi = np.array([2*np.pi/N * i for i in range(N)]) + np.random.uniform(-0.01, 0.01, N)\n",
    "# psi = np.mod(psi, 2*np.pi)\n",
    "# psi[psi>np.pi] -= 2*np.pi\n",
    "\n",
    "# radii = np.zeros(N)\n",
    "\n",
    "# x[:, 0] = np.array([5*np.cos(2*np.pi/N * i)+25 for i in range(N)]) \n",
    "# x[:, 1] = np.array([5*np.sin(2*np.pi/N * i)+25 for i in range(N)]) \n"
   ]
  },
  {
   "cell_type": "code",
   "execution_count": null,
   "metadata": {
    "collapsed": false
   },
   "outputs": [],
   "source": [
    "fig = plt.figure()\n",
    "ax = fig.add_subplot(111)\n",
    "ax.set_xlim([0, L])\n",
    "ax.set_ylim([0, L])\n",
    "ax.set_aspect(1)\n",
    "plt.scatter(x[:, 0], x[:, 1], s = 800)\n",
    "plt.quiver(x[:, 0], x[:, 1], np.cos(psi), np.sin(psi), linewidths = 0.01)\n",
    "plt.show()"
   ]
  },
  {
   "cell_type": "code",
   "execution_count": null,
   "metadata": {
    "collapsed": false
   },
   "outputs": [],
   "source": [
    "def compute_self_propulsion_force(N, psi):\n",
    "    F_self = np.zeros([N, 2])\n",
    "    F_self[:, 0] = np.cos(psi)    \n",
    "    F_self[:, 1] = np.sin(psi)\n",
    "    \n",
    "    return F_self\n",
    "\n",
    "def compute_repulsion_force(N, angles, overlap, k):\n",
    "    d = np.zeros([N, N, 2])\n",
    "    d[:, :, 0] = np.cos(angles) * overlap \n",
    "    d[:, :, 1] = np.sin(angles) * overlap \n",
    "    d = np.sum(d, axis=1)\n",
    "   \n",
    "    return k*d\n",
    "\n",
    "def compute_boundary_force(N, theta_out, psi):\n",
    "    F_boundary = np.zeros([N, 2])\n",
    "    F_abs = 0.3 * (theta_out - np.pi) * (theta_out > np.pi)\n",
    "    F_boundary[:, 0] = F_abs * np.cos(psi)\n",
    "    F_boundary[:, 1] = F_abs * np.sin(psi)\n",
    "\n",
    "    return F_boundary\n",
    "\n",
    "def compute_align_torque(N, neighs, psi):\n",
    "    delta_psi = (psi[None, :] - psi[:, None])*neighs\n",
    "    delta_psi_sum = np.mod(np.sum(delta_psi, axis=1), 2*np.pi)\n",
    "    delta_psi_sum[delta_psi_sum > np.pi] -= 2*np.pi\n",
    "    \n",
    "    return delta_psi_sum\n",
    "    \n",
    "def compute_angles(N, neighs, dist_components, psi):\n",
    "    angles = np.arctan2(dist_components[:, :, 1], dist_components[:, :, 0])\n",
    "    neigh_angles = neighs*angles\n",
    "    \n",
    "    delta_theta = np.zeros(N)\n",
    "    theta_in = np.zeros(N)\n",
    "    theta_out = np.zeros(N)\n",
    "    \n",
    "    for i in range(N):\n",
    "        sorted_angles = np.sort(neigh_angles[i, :][np.nonzero(neigh_angles[i, :])])\n",
    "\n",
    "        if not len(sorted_angles) > 0:\n",
    "            continue          \n",
    "            \n",
    "        angles_difference = sorted_angles - np.roll(sorted_angles, 1) \n",
    "        angles_difference[angles_difference<0] += 2*np.pi\n",
    "        max_index = np.argmax(angles_difference)\n",
    "        \n",
    "        if angles_difference[max_index] >= np.pi:\n",
    "            theta_out[i] = np.abs(angles_difference[max_index])\n",
    "            theta_in[i] = sorted_angles[max_index-1]  - (2*np.pi - theta_out[i])/2 \n",
    "            delta_theta[i] = theta_in[i] - psi[i]\n",
    "      \n",
    "    return angles, delta_theta, theta_in, theta_out\n",
    "\n",
    "def update(N, L, x, radii, psi):\n",
    "    #    Compute distance vector between particles\n",
    "    dist_components = x[None, :, :] - x[:, None, :]\n",
    "    dist_components = dist_components - np.rint(dist_components/L)*L\n",
    "    distances = np.linalg.norm(dist_components, axis = 2)\n",
    "    \n",
    "    #    Compute neighbours matrix. Entries are 0 if particles are not neighbours, 1 if they are\n",
    "    neighs = np.zeros([N, N])\n",
    "    neighs[(distances < 2.7) & (distances >0)] = 1\n",
    "    \n",
    "    #    Compute overlap matrix. Entries are 0 if particles don't overlap, 1 if they are\n",
    "    overlap = np.zeros([N, N])\n",
    "    radii_sum = radii[None, :] + radii[:, None]\n",
    "    \n",
    "    #    We determine if they overlap by checking if the sum of the radii of the particles\n",
    "    #    is smaller than their distance\n",
    "    overlap[distances - radii_sum < 0] = np.abs((distances - radii_sum)[distances - radii_sum < 0])\n",
    "    np.fill_diagonal(overlap, 0)\n",
    "    \n",
    "    #    Compute angles between particles\n",
    "    angles, delta_theta, theta_in, theta_out = compute_angles(N, neighs, dist_components, psi)\n",
    " \n",
    "    #    Compute all forces\n",
    "    F_self = compute_self_propulsion_force(N, psi)\n",
    "    F_repulsion = compute_repulsion_force(N, angles, overlap, 1)\n",
    "    F_boundary = compute_boundary_force(N, theta_out, psi)   \n",
    "    F = 0.06*F_self + 3*F_boundary + F_repulsion\n",
    "    \n",
    "    #    Compute all torques\n",
    "    T_boundary = (theta_in-psi) * (theta_out > np.pi)\n",
    "    T_noise = np.random.uniform(-1, 1, N)\n",
    "    T_align = compute_align_torque(N, neighs, psi)\n",
    "\n",
    "    T = 3*T_boundary + np.sqrt(0.03)*T_noise + 0.67*T_align    \n",
    "    \n",
    "    x += F\n",
    "    x = np.mod(x, L)\n",
    "    psi += T\n",
    "    \n",
    "    psi = np.mod(psi, 2*np.pi)\n",
    "    psi[psi>np.pi] -= 2*np.pi\n",
    "\n",
    "    return x, psi"
   ]
  },
  {
   "cell_type": "code",
   "execution_count": null,
   "metadata": {
    "collapsed": false,
    "scrolled": false
   },
   "outputs": [],
   "source": [
    "for i in range(10**4 + 30):\n",
    "    fig = plt.figure()\n",
    "    ax = fig.add_subplot(111)\n",
    "    ax.set_xlim([0, L])\n",
    "    ax.set_ylim([0, L])\n",
    "    ax.set_aspect(1)\n",
    "    plt.scatter(x[:, 0], x[:, 1], s = 800)\n",
    "    plt.quiver(x[:, 0], x[:, 1], np.cos(psi), np.sin(psi))\n",
    "    plt.show()\n",
    "    x, psi = update(N, L, x, radii, psi)\n"
   ]
  },
  {
   "cell_type": "code",
   "execution_count": null,
   "metadata": {
    "collapsed": true
   },
   "outputs": [],
   "source": []
  }
 ],
 "metadata": {
  "kernelspec": {
   "display_name": "Python 3",
   "language": "python",
   "name": "python3"
  },
  "language_info": {
   "codemirror_mode": {
    "name": "ipython",
    "version": 3
   },
   "file_extension": ".py",
   "mimetype": "text/x-python",
   "name": "python",
   "nbconvert_exporter": "python",
   "pygments_lexer": "ipython3",
   "version": "3.5.1"
  }
 },
 "nbformat": 4,
 "nbformat_minor": 0
}
