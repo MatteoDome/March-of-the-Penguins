{
 "cells": [
  {
   "cell_type": "code",
   "execution_count": 31,
   "metadata": {
    "collapsed": true
   },
   "outputs": [],
   "source": [
    "import numpy as np\n",
    "import matplotlib.pyplot as plt\n",
    "import numba\n",
    "import matplotlib.animation as animation"
   ]
  },
  {
   "cell_type": "code",
   "execution_count": 32,
   "metadata": {
    "collapsed": true
   },
   "outputs": [],
   "source": [
    "L = 250\n",
    "N = 100\n",
    "x = np.arange(-int(L/2), int(L/2), 1)\n",
    "y = np.arange(-int(L/2), int(L/2), 1)\n",
    "delta_theta = np.zeros(N)\n",
    "v = np.ones(N)*0.3\n",
    "\n",
    "##x represents coordinates, v has the components of the velocity (probably superfluous, psi is the orientation, omega is the \n",
    "##angular velocity and r is the radius.\n",
    "particles_x = np.zeros([N, 2])\n",
    "particles_v = np.zeros([N, 2])\n",
    "particles_omega = np.zeros(N)\n",
    "particles_psi = np.zeros(N)\n",
    "particles_r = np.zeros(N)"
   ]
  },
  {
   "cell_type": "code",
   "execution_count": 33,
   "metadata": {
    "collapsed": true
   },
   "outputs": [],
   "source": [
    "for i in range (int(np.sqrt(N))):\n",
    "    particles_x[10*i:10*(i+1), 0] = np.arange(0, 10)\n",
    "    particles_x[10*i:10*(i+1), 1] = i\n",
    "    \n",
    "particles_r[:] = np.random.normal(1, 0.1, N)\n",
    "particles_psi = particles_psi - delta_theta\n",
    "particles_v[:, 0] = v*np.cos(particles_psi)\n",
    "particles_v[:, 0] = v*np.sin(particles_psi)"
   ]
  },
  {
   "cell_type": "code",
   "execution_count": 34,
   "metadata": {
    "collapsed": false
   },
   "outputs": [],
   "source": [
    "def calcDTheta (N, particles_x, selectMatrix):\n",
    "    theta_out = np.zeros(N)\n",
    "    theta_in = np.zeros(N)\n",
    "    d_theta = np.zeros(N)\n",
    "    \n",
    "    particles_dist = particles_x[None, :, :] - particles_x[:, None, :]\n",
    "    \n",
    "    ##we need to avoid dividing by zero\n",
    "    np.fill_diagonal(particles_dist[:, :, 0], 100)\n",
    "    np.fill_diagonal(particles_dist[:, :, 1], 100)\n",
    "    \n",
    "    angles = selectMatrix*np.arctan2(particles_dist[:, :, 1], particles_dist[:, :, 0])\n",
    "    \n",
    "    #we correct the diagonal elements that we arbitrarily changed two lines above\n",
    "    np.fill_diagonal(angles[:, :], 0)\n",
    "    \n",
    "    for i in range (N):\n",
    "        M = max(angles[i, :])\n",
    "        m = min(angles[i, :])\n",
    "        if M > 0 and m < 0:\n",
    "            if M - m < np.pi:\n",
    "                theta_in[i] = (M-m)/2\n",
    "                theta_out[:] = 2*np.pi - 2*theta_in\n",
    "                d_theta = particles_psi - theta_in\n",
    "        elif (M > 0 and m > 0) or (M < 0 and m < 0):\n",
    "            theta_in[i] = (M-m)/2\n",
    "            theta_out[:] = 2*np.pi - 2*theta_in\n",
    "            d_theta = particles_psi - theta_in\n",
    "    \n",
    "    return theta_in, theta_out, d_theta\n",
    "\n",
    "def forceCalc(v, theta_out, d, particles_psi, particles_omega, selectMatrix):\n",
    "    psi_diff = (particles_psi[None, :] - particles_psi[:, None])*selectMatrix\n",
    "    \n",
    "    F = 0.05 + (theta_out[:] - np.pi)*0.3*np.piecewise(theta_out[:] -np.pi, [theta_out[:] -np.pi > 0], [0, 1]) - 1*np.sum(d[:], axis =1)\n",
    "    F_x = F*np.cos(particles_psi[:])\n",
    "    F_y = F*np.sin(particles_psi[:])\n",
    "    \n",
    "    T = 0.06*np.piecewise(theta_out[:] -np.pi, [theta_out[:] -np.pi > 0], [0, 1]) + 0.03*np.random.uniform(-1,1, N) + 0.5*np.sum(psi_diff, axis = 1)[:]\n",
    "    \n",
    "    return F_x, F_y, F, T\n",
    "    \n",
    "def update(N, L, v, particles_x, particles_r, particles_psi, particles_omega):\n",
    "    ##distances calculation\n",
    "    d = np.linalg.norm(particles_x[None, :, :] - particles_x[:, None, :], axis = 2)\n",
    "    \n",
    "    selectMatrix = np.copy(d)\n",
    "    selectMatrix[selectMatrix > 2.7] = 0\n",
    "    selectMatrix[selectMatrix > 0] = 1 ##the selection matrix is used to only take into account the neighbours with d < 2.7\n",
    "    \n",
    "    ##OPTIMIZATION NEEDED\n",
    "    for i in range (0, N):\n",
    "        for j in range (0, N):\n",
    "            d[i, j] -= (particles_r[i] + particles_r[j])\n",
    "    d[d>0] = 0\n",
    "    d = - d\n",
    "    \n",
    "    ##calculations\n",
    "    theta_in, theta_out, d_theta= calcDTheta(N, particles_x, selectMatrix)\n",
    "    \n",
    "    F_x, F_y, v, T = forceCalc(v, theta_out, d, particles_psi, particles_omega, selectMatrix)\n",
    "    \n",
    "    particles_x[:, 0] = np.mod(particles_x[:, 0] + F_x[:], L)\n",
    "    particles_x[:, 1] = np.mod(particles_x[:, 1] + F_y[:], L)\n",
    "    particles_omega[:] = - (particles_psi[:] - T*1) + particles_omega[:]\n",
    "    particles_psi[:] = particles_psi[:] + particles_omega[:]\n",
    "    \n",
    "    return v, particles_x, particles_psi, particles_omega"
   ]
  },
  {
   "cell_type": "code",
   "execution_count": 35,
   "metadata": {
    "collapsed": true
   },
   "outputs": [],
   "source": [
    "plt.scatter(particles_x[:, 0], particles_x[:, 1], s = np.pi*particles_r[:]**2)\n",
    "plt.show()"
   ]
  },
  {
   "cell_type": "code",
   "execution_count": 23,
   "metadata": {
    "collapsed": false
   },
   "outputs": [],
   "source": [
    "v, particles_x, particles_psi, particles_omega = update(N, L, v, particles_x, particles_r, particles_psi, particles_omega)"
   ]
  },
  {
   "cell_type": "code",
   "execution_count": null,
   "metadata": {
    "collapsed": true
   },
   "outputs": [],
   "source": [
    "for i in range (1000):\n",
    "    v, particles_x, particles_psi, particles_omega = update(N, L, v, particles_x, particles_r, particles_psi, particles_omega)\n",
    "    print(i)\n",
    "    if i > (10**6 - 50):\n",
    "        plt.scatter(particles_x[:, 0], particles_x[:, 1], s = np.pi*particles_r[:]**2)\n",
    "        plt.show()\n",
    "    "
   ]
  },
  {
   "cell_type": "code",
   "execution_count": null,
   "metadata": {
    "collapsed": true
   },
   "outputs": [],
   "source": []
  }
 ],
 "metadata": {
  "kernelspec": {
   "display_name": "Python 3",
   "language": "python",
   "name": "python3"
  },
  "language_info": {
   "codemirror_mode": {
    "name": "ipython",
    "version": 3
   },
   "file_extension": ".py",
   "mimetype": "text/x-python",
   "name": "python",
   "nbconvert_exporter": "python",
   "pygments_lexer": "ipython3",
   "version": "3.5.1"
  }
 },
 "nbformat": 4,
 "nbformat_minor": 0
}
