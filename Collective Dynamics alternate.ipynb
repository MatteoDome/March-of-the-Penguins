{
 "cells": [
  {
   "cell_type": "code",
   "execution_count": 70,
   "metadata": {
    "collapsed": true
   },
   "outputs": [],
   "source": [
    "import numpy as np\n",
    "import matplotlib.pyplot as plt\n",
    "import numba\n",
    "import matplotlib.animation as animation\n",
    "%matplotlib inline"
   ]
  },
  {
   "cell_type": "code",
   "execution_count": 71,
   "metadata": {
    "collapsed": true
   },
   "outputs": [],
   "source": [
    "L = 50\n",
    "N = 20\n",
    "x = np.arange(0, L, 1)\n",
    "y = np.arange(0, L, 1)\n",
    "delta_theta = np.zeros(N)\n",
    "v = np.ones(N)*0.3\n",
    "\n",
    "##x represents coordinates, v has the components of the velocity (probably superfluous, psi is the orientation, omega is the \n",
    "##angular velocity and r is the radius.\n",
    "particles_x = np.zeros([N, 2])\n",
    "particles_v = np.zeros([N, 2])\n",
    "particles_omega = np.zeros(N)\n",
    "particles_psi = np.random.uniform(-np.pi/4, np.pi/4, N)\n",
    "particles_r = np.zeros(N)"
   ]
  },
  {
   "cell_type": "code",
   "execution_count": 72,
   "metadata": {
    "collapsed": false
   },
   "outputs": [],
   "source": [
    "# for i in range (int(N/10)):\n",
    "#     particles_x[10*i:(10*(i+1)), 0] = np.arange(int(L/2 -5), int(L/2 + 5), 1) + np.random.uniform(-0.1, 0.1, 10)\n",
    "#     particles_x[int(N*i/10): int(N*(i+1)/10), 1] = int(L/2 -i) + np.random.uniform(-0.1, 0.1, int(N/10))\n",
    "particles_x[:, 0] = np.array([5*np.cos(2*np.pi/N * i)+10 for i in range(N)]) \n",
    "particles_x[:, 1] = np.array([5*np.sin(2*np.pi/N * i)+10 for i in range(N)]) \n",
    "#particles_r[:] = np.random.normal(1, 0.1, N)\n",
    "particles_r[:] = 0"
   ]
  },
  {
   "cell_type": "code",
   "execution_count": 73,
   "metadata": {
    "collapsed": false
   },
   "outputs": [
    {
     "data": {
      "image/png": "[encoded data removed]",
      "text/plain": [
       "<matplotlib.figure.Figure at 0x1f45c24b5f8>"
      ]
     },
     "metadata": {},
     "output_type": "display_data"
    }
   ],
   "source": [
    "fig = plt.figure()\n",
    "ax = fig.add_subplot(111)\n",
    "ax.set_xlim([0, L])\n",
    "ax.set_ylim([0, L])\n",
    "ax.set_aspect(1)\n",
    "plt.scatter(particles_x[:, 0], particles_x[:, 1])\n",
    "plt.show()"
   ]
  },
  {
   "cell_type": "code",
   "execution_count": 74,
   "metadata": {
    "collapsed": false
   },
   "outputs": [],
   "source": [
    "def update(L, particles_x, particles_r, particles_psi):\n",
    "    dist_components = particles_x[None, :, :] - particles_x[:, None, :]\n",
    "    dist_components = dist_components - np.rint(dist_components/L)*L\n",
    "    distances = np.linalg.norm(dist_components, axis = 2)\n",
    "    \n",
    "    neighs = np.zeros([N, N])\n",
    "    neighs[(distances < 2.7) & (distances >0)] = 1\n",
    "    \n",
    "    radii_sum = np.zeros([N, N])\n",
    "    for i in range (N):\n",
    "        radii_sum[i, :] = particles_r + particles_r[i]\n",
    "    \n",
    "    overlap = np.zeros([N, N])\n",
    "    overlap[distances - radii_sum < 0] = np.abs((distances - radii_sum)[distances - radii_sum < 0])\n",
    "    np.fill_diagonal(overlap, 0)\n",
    "    \n",
    "    ##we need to avoid dividing by zero\n",
    "    np.fill_diagonal(dist_components[:, :, 0], 100)\n",
    "    \n",
    "    angles = np.arctan2(dist_components[:, :, 1], dist_components[:, :, 0])\n",
    "    \n",
    "    np.fill_diagonal(dist_components[:, :, 0], 0)\n",
    "    \n",
    "    d = repulsion_force(N, angles, overlap)\n",
    "    \n",
    "    delta_theta, theta_in, theta_out = angles_calc(neighs, angles, particles_psi)\n",
    "    \n",
    "    print(\"------theta in\")\n",
    "    print(theta_in)\n",
    "    \n",
    "    print(\"------theta out\")\n",
    "    print(theta_out)\n",
    "    \n",
    "    F_self = 0\n",
    "    F_boundary = (theta_out - np.pi)*0.3*(theta_out > np.pi)\n",
    "    \n",
    "    particles_x[:, 0] = np.mod(particles_x[:, 0] + F_self + F_boundary*np.cos(theta_in)+ 1*d[:, 0], L)\n",
    "    particles_x[:, 1] = np.mod(particles_x[:, 1] + F_boundary*np.sin(theta_in) + 1*d[:, 1], L)\n",
    "    return particles_x\n",
    "\n",
    "def repulsion_force(N, angles, overlap):\n",
    "    d = np.zeros([N, N, 2])\n",
    "    d[:, :, 0] = np.cos(angles)*overlap \n",
    "    d[:, :, 1] = np.sin(angles)*overlap \n",
    "    d = np.sum(d, axis = 1)\n",
    "    return d\n",
    "\n",
    "def angles_calc(neighs, angles, particles_psi):\n",
    "    neigh_angles = neighs*angles\n",
    "    \n",
    "    delta_theta = np.zeros(N)\n",
    "    theta_in = np.zeros(N)\n",
    "    theta_out = np.zeros(N)\n",
    "    \n",
    "    for i in range (N):\n",
    "        sorted_angles = np.sort(neigh_angles[i, :][np.nonzero(neigh_angles[i, :])])\n",
    "        angles_difference = np.roll(sorted_angles, 1) - sorted_angles\n",
    "        max_index = np.argmax(angles_difference)\n",
    "        if angles_difference[max_index] > np.pi:\n",
    "            theta_out[i] = angles_difference[max_index]\n",
    "            theta_in[i] = (np.roll(sorted_angles, 1)[max_index] + sorted_angles[max_index])/2\n",
    "            delta_theta[i] = theta_in[i] - particles_psi[i]\n",
    "        \n",
    "        print(\"----\")\n",
    "        print(angles_difference)\n",
    "        print(sorted_angles)\n",
    "    \n",
    "            \n",
    "    return delta_theta, theta_in, theta_out"
   ]
  },
  {
   "cell_type": "code",
   "execution_count": 75,
   "metadata": {
    "collapsed": false
   },
   "outputs": [
    {
     "name": "stdout",
     "output_type": "stream",
     "text": [
      "----\n",
      "[ 3.45575192 -3.45575192]\n",
      "[-1.72787596  1.72787596]\n",
      "----\n",
      "[ 3.45575192 -3.45575192]\n",
      "[-1.41371669  2.04203522]\n",
      "----\n",
      "[ 3.45575192 -3.45575192]\n",
      "[-1.09955743  2.35619449]\n",
      "----\n",
      "[ 3.45575192 -3.45575192]\n",
      "[-0.78539816  2.67035376]\n",
      "----\n",
      "[ 3.45575192 -3.45575192]\n",
      "[-0.4712389   2.98451302]\n",
      "----\n",
      "[ 2.82743339 -2.82743339]\n",
      "[-2.98451302 -0.15707963]\n",
      "----\n",
      "[ 2.82743339 -2.82743339]\n",
      "[-2.67035376  0.15707963]\n",
      "----\n",
      "[ 2.82743339 -2.82743339]\n",
      "[-2.35619449  0.4712389 ]\n",
      "----\n",
      "[ 2.82743339 -2.82743339]\n",
      "[-2.04203522  0.78539816]\n",
      "----\n",
      "[ 2.82743339 -2.82743339]\n",
      "[-1.72787596  1.09955743]\n",
      "----\n",
      "[ 2.82743339 -2.82743339]\n",
      "[-1.41371669  1.41371669]\n",
      "----\n",
      "[ 2.82743339 -2.82743339]\n",
      "[-1.09955743  1.72787596]\n",
      "----\n",
      "[ 2.82743339 -2.82743339]\n",
      "[-0.78539816  2.04203522]\n",
      "----\n",
      "[ 2.82743339 -2.82743339]\n",
      "[-0.4712389   2.35619449]\n",
      "----\n",
      "[ 2.82743339 -2.82743339]\n",
      "[-0.15707963  2.67035376]\n",
      "----\n",
      "[ 2.82743339 -2.82743339]\n",
      "[ 0.15707963  2.98451302]\n",
      "----\n",
      "[ 3.45575192 -3.45575192]\n",
      "[-2.98451302  0.4712389 ]\n",
      "----\n",
      "[ 3.45575192 -3.45575192]\n",
      "[-2.67035376  0.78539816]\n",
      "----\n",
      "[ 3.45575192 -3.45575192]\n",
      "[-2.35619449  1.09955743]\n",
      "----\n",
      "[ 3.45575192 -3.45575192]\n",
      "[-2.04203522  1.41371669]\n",
      "------theta in\n",
      "[  1.11022302e-16   3.14159265e-01   6.28318531e-01   9.42477796e-01\n",
      "   1.25663706e+00   0.00000000e+00   0.00000000e+00   0.00000000e+00\n",
      "   0.00000000e+00   0.00000000e+00   0.00000000e+00   0.00000000e+00\n",
      "   0.00000000e+00   0.00000000e+00   0.00000000e+00   0.00000000e+00\n",
      "  -1.25663706e+00  -9.42477796e-01  -6.28318531e-01  -3.14159265e-01]\n",
      "------theta out\n",
      "[ 3.45575192  3.45575192  3.45575192  3.45575192  3.45575192  0.          0.\n",
      "  0.          0.          0.          0.          0.          0.          0.\n",
      "  0.          0.          3.45575192  3.45575192  3.45575192  3.45575192]\n"
     ]
    },
    {
     "data": {
      "image/png": "[encoded data removed]",
      "text/plain": [
       "<matplotlib.figure.Figure at 0x1f45e08f160>"
      ]
     },
     "metadata": {},
     "output_type": "display_data"
    }
   ],
   "source": [
    "for i in range (1):\n",
    "    particles_x = update(L, particles_x, particles_r, particles_psi)\n",
    "    fig = plt.figure()\n",
    "    ax = fig.add_subplot(111)\n",
    "    ax.set_xlim([0, L])\n",
    "    ax.set_ylim([0, L])\n",
    "    ax.set_aspect(1)\n",
    "    plt.scatter(particles_x[:, 0], particles_x[:, 1])\n",
    "    plt.show()"
   ]
  },
  {
   "cell_type": "code",
   "execution_count": null,
   "metadata": {
    "collapsed": true
   },
   "outputs": [],
   "source": []
  },
  {
   "cell_type": "code",
   "execution_count": null,
   "metadata": {
    "collapsed": true
   },
   "outputs": [],
   "source": []
  }
 ],
 "metadata": {
  "kernelspec": {
   "display_name": "Python 3",
   "language": "python",
   "name": "python3"
  },
  "language_info": {
   "codemirror_mode": {
    "name": "ipython",
    "version": 3
   },
   "file_extension": ".py",
   "mimetype": "text/x-python",
   "name": "python",
   "nbconvert_exporter": "python",
   "pygments_lexer": "ipython3",
   "version": "3.5.1"
  }
 },
 "nbformat": 4,
 "nbformat_minor": 0
}
